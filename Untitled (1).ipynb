{
 "cells": [
  {
   "cell_type": "markdown",
   "id": "20121fd3-f109-482d-8e8d-4d4c75825330",
   "metadata": {},
   "source": [
    "# Numpy Practice\n",
    "### first import numpy"
   ]
  },
  {
   "cell_type": "code",
   "execution_count": 1,
   "id": "e134cd89-fd27-47dd-849f-9c6319190a7d",
   "metadata": {},
   "outputs": [],
   "source": [
    "import numpy as np"
   ]
  },
  {
   "cell_type": "code",
   "execution_count": 2,
   "id": "f21c373d-d066-4318-bd71-9f19344dacc2",
   "metadata": {},
   "outputs": [
    {
     "name": "stdout",
     "output_type": "stream",
     "text": [
      "<module 'numpy' from 'E:\\\\jupiter\\\\Lib\\\\site-packages\\\\numpy\\\\__init__.py'>\n"
     ]
    }
   ],
   "source": [
    "print(np)"
   ]
  },
  {
   "cell_type": "markdown",
   "id": "ee4fe694-7764-49b6-b808-2d536c421276",
   "metadata": {},
   "source": [
    "## Types of Matrix using Numpy\n",
    "1. Square Matrix\n",
    "2. Identity Matrix\n",
    "3. Zero Matrix\n",
    "4. Ones Matrix\n",
    "5. Random Matrix\n",
    "6. Diagonal Matrix\n",
    "7. Upper Triangular Matrix\n",
    "8. Lower Triangular Matrix\n",
    "9. Rectangular Matrix"
   ]
  },
  {
   "cell_type": "code",
   "execution_count": 3,
   "id": "21e5be13-db86-4870-bdbb-a75d69b06bef",
   "metadata": {},
   "outputs": [
    {
     "name": "stdout",
     "output_type": "stream",
     "text": [
      "[[1 2 3]\n",
      " [4 5 6]\n",
      " [7 8 9]]\n"
     ]
    }
   ],
   "source": [
    "# simple 3*3 matrix Square Matrix\n",
    "\n",
    "matrix = np.array([[1,2,3],[4,5,6],[7,8,9]])\n",
    "print(matrix)"
   ]
  },
  {
   "cell_type": "code",
   "execution_count": 4,
   "id": "4fcabfdb-8644-4a35-b643-c53887be6537",
   "metadata": {},
   "outputs": [
    {
     "name": "stdout",
     "output_type": "stream",
     "text": [
      "[[1. 0. 0.]\n",
      " [0. 1. 0.]\n",
      " [0. 0. 1.]]\n"
     ]
    }
   ],
   "source": [
    "# simple 3*3 Identity Matrix\n",
    "\n",
    "matrix = np.eye(3,3)\n",
    "print(matrix)"
   ]
  },
  {
   "cell_type": "code",
   "execution_count": 5,
   "id": "a2571e08-5957-4734-9e9e-61465c06b33c",
   "metadata": {},
   "outputs": [
    {
     "name": "stdout",
     "output_type": "stream",
     "text": [
      "[[0. 0. 0.]\n",
      " [0. 0. 0.]]\n"
     ]
    }
   ],
   "source": [
    "# simple 2*3 Zero Matrix\n",
    "\n",
    "matrix = np.zeros((2, 3))\n",
    "print(matrix)"
   ]
  },
  {
   "cell_type": "code",
   "execution_count": 6,
   "id": "8df3996b-f5b0-46fc-9e24-538eaf75a89c",
   "metadata": {},
   "outputs": [
    {
     "name": "stdout",
     "output_type": "stream",
     "text": [
      "[[1. 1. 1.]\n",
      " [1. 1. 1.]]\n"
     ]
    }
   ],
   "source": [
    "# simple 2*3 ones matrix\n",
    "\n",
    "matrix = np.ones((2,3))\n",
    "print(matrix)"
   ]
  },
  {
   "cell_type": "code",
   "execution_count": 7,
   "id": "7b46ffc4-25f9-4df1-b34a-d20c4b566413",
   "metadata": {},
   "outputs": [
    {
     "name": "stdout",
     "output_type": "stream",
     "text": [
      "[[1 0 2]\n",
      " [1 9 9]\n",
      " [2 2 9]]\n"
     ]
    }
   ],
   "source": [
    "# simple 3*3 Random matrix\n",
    "\n",
    "matrix = np.random.randint(0, 10, (3, 3))\n",
    "print(matrix)"
   ]
  },
  {
   "cell_type": "code",
   "execution_count": 8,
   "id": "40a15e73-6d91-4f82-994f-020f390b7c74",
   "metadata": {},
   "outputs": [
    {
     "name": "stdout",
     "output_type": "stream",
     "text": [
      "[[3 3 1]\n",
      " [0 3 1]\n",
      " [0 0 1]]\n"
     ]
    }
   ],
   "source": [
    "# simple 3*3 upper triangular matrix\n",
    "\n",
    "matrix = np.triu((3, 3, 1))\n",
    "print(matrix)"
   ]
  },
  {
   "cell_type": "code",
   "execution_count": 9,
   "id": "d08a1038-e90e-400d-b49d-19ea016b043a",
   "metadata": {},
   "outputs": [
    {
     "name": "stdout",
     "output_type": "stream",
     "text": [
      "[[3 0 0]\n",
      " [3 3 0]\n",
      " [3 3 2]]\n"
     ]
    }
   ],
   "source": [
    "# simple 3*3 lower triangular matrix\n",
    "\n",
    "matrix = np.tril((3, 3, 2))\n",
    "print(matrix)"
   ]
  },
  {
   "cell_type": "code",
   "execution_count": 10,
   "id": "42b76f78-b64c-4c37-933c-0cee0c7c4d9d",
   "metadata": {},
   "outputs": [
    {
     "name": "stdout",
     "output_type": "stream",
     "text": [
      "[[1 0 0]\n",
      " [0 2 0]\n",
      " [0 0 3]]\n"
     ]
    }
   ],
   "source": [
    "# simple 3*3 Diagonal matrix\n",
    "\n",
    "matrix = np.diag((1, 2, 3))\n",
    "print(matrix)"
   ]
  },
  {
   "cell_type": "code",
   "execution_count": 11,
   "id": "7b08a869-7009-4c20-bdfb-1269cf2ded9e",
   "metadata": {},
   "outputs": [
    {
     "name": "stdout",
     "output_type": "stream",
     "text": [
      "[[ 1  2  3  4  5]\n",
      " [ 6  7  8  9 10]]\n"
     ]
    }
   ],
   "source": [
    "# simple 2*5 Rectangular matrix\n",
    "\n",
    "matrix = np.array([[1, 2, 3, 4, 5],[6, 7, 8, 9, 10]])\n",
    "print(matrix)"
   ]
  },
  {
   "cell_type": "code",
   "execution_count": null,
   "id": "243f5d03-aa17-400b-a592-6af4dc7da7d4",
   "metadata": {},
   "outputs": [],
   "source": []
  },
  {
   "cell_type": "code",
   "execution_count": null,
   "id": "1e249978-1512-4667-a4d9-b50638e4bb29",
   "metadata": {},
   "outputs": [],
   "source": []
  }
 ],
 "metadata": {
  "kernelspec": {
   "display_name": "Python 3 (ipykernel)",
   "language": "python",
   "name": "python3"
  },
  "language_info": {
   "codemirror_mode": {
    "name": "ipython",
    "version": 3
   },
   "file_extension": ".py",
   "mimetype": "text/x-python",
   "name": "python",
   "nbconvert_exporter": "python",
   "pygments_lexer": "ipython3",
   "version": "3.11.7"
  }
 },
 "nbformat": 4,
 "nbformat_minor": 5
}
